{
 "cells": [
  {
   "cell_type": "code",
   "execution_count": null,
   "id": "0102eb80",
   "metadata": {
    "vscode": {
     "languageId": "plaintext"
    }
   },
   "outputs": [],
   "source": [
    "# JSON 파일들이 있는 폴더 경로\n",
    "input_folder = \"문장 중복제거 파일들이 있는 폴더\"\n",
    "output_folder = \"정제한 파일들이 저장될 폴더\"\n",
    "\n",
    "# 출력 폴더가 없으면 생성\n",
    "os.makedirs(output_folder, exist_ok=True)\n",
    "\n",
    "# 파일 이름에 따라 문장에서 제거할 금지어 목록 정의\n",
    "filter_keywords = {\n",
    "    \"10\": [\"클럽\", \"결혼\", \"술\", \"군대\", \"출근\", \"직장\", ...],\n",
    "    \"20\": [\"등교\", \"등급\", \"교장\", \"초등학생\", \"선생\", \"문센\", ...],\n",
    "    \"30\": [\"동아리\", \"교수\", \"등교\", \"교장\", \"몰컴\", ...],\n",
    "    \"40\": [\"어쩔티비\", \"대딩\", \"카트라이더\", \"시험공부\", ...],\n",
    "    \"50이상\": [\"엄카\", \"방탈출카페\", \"킹정\", \"개꿀맛\", \"리그오브레전드\", ...],\n",
    "    \"남성\": [\"남친\", \"남사친\", \"시아버지\", \"화장품\",\"시월드\",...],\n",
    "    \"여성\": [\"여친\", \"여사친\", \"군대\", \"입대\", ...]\n",
    "}\n",
    "\n",
    "# 입력 폴더 내 모든 JSON 파일 반복 처리\n",
    "for filename in os.listdir(input_folder):\n",
    "    if filename.endswith(\".json\"):\n",
    "        input_path = os.path.join(input_folder, filename)\n",
    "        output_path = os.path.join(output_folder, filename)\n",
    "\n",
    "        # JSON 파일 열기 (유효하지 않은 JSON은 건너뜀)\n",
    "        with open(input_path, \"r\", encoding=\"utf-8\") as f:\n",
    "            try:\n",
    "                data = json.load(f)\n",
    "            except json.JSONDecodeError:\n",
    "                print(f\"{filename} is not a valid JSON file. Skipped.\")\n",
    "                continue\n",
    "\n",
    "        # 파일명에 포함된 키워드를 기준으로 해당 금지어 목록을 수집\n",
    "        applicable_keywords = []\n",
    "        for key, keywords in filter_keywords.items():\n",
    "            if key in filename:\n",
    "                applicable_keywords.extend(keywords)\n",
    "\n",
    "        # slang_sentence 또는 standard_sentence에 금지어가 포함된 항목 제거\n",
    "        filtered_data = []\n",
    "        for entry in data:\n",
    "            text = entry.get(\"slang_sentence\", \"\") + entry.get(\"standard_sentence\", \"\")\n",
    "            if not any(keyword in text for keyword in applicable_keywords):\n",
    "                filtered_data.append(entry)\n",
    "\n",
    "        # 결과를 출력 폴더에 저장\n",
    "        with open(output_path, \"w\", encoding=\"utf-8\") as f:\n",
    "            json.dump(filtered_data, f, ensure_ascii=False, indent=2)\n",
    "\n",
    "        # 처리 로그 출력\n",
    "        print(f\"{filename}: {len(data)}개 -> {len(filtered_data)}개로 필터링됨.\")\n",
    "\n",
    "# 전체 처리 완료 메시지 출력\n",
    "print(\"모든 파일 처리 완료.\")"
   ]
  }
 ],
 "metadata": {
  "language_info": {
   "name": "python"
  }
 },
 "nbformat": 4,
 "nbformat_minor": 5
}
