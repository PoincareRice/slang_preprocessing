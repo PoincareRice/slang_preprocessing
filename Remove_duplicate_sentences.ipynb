{
 "cells": [
  {
   "cell_type": "code",
   "execution_count": null,
   "id": "e3280884",
   "metadata": {
    "vscode": {
     "languageId": "plaintext"
    }
   },
   "outputs": [],
   "source": [
    "import os\n",
    "import json\n",
    "\n",
    "# JSON 파일들이 있는 폴더 경로\n",
    "input_folder = \"전처리된 파일들이 있는 폴더\"\n",
    "output_folder = \"문장 중복제거 파일들이 저장될 폴더\"\n",
    "\n",
    "# 출력 폴더 생성\n",
    "os.makedirs(output_folder, exist_ok=True)\n",
    "\n",
    "# 폴더 내 모든 JSON 파일 반복\n",
    "for filename in os.listdir(input_folder):\n",
    "    if filename.endswith(\".json\"):\n",
    "        input_path = os.path.join(input_folder, filename)\n",
    "        output_path = os.path.join(output_folder, filename)\n",
    "\n",
    "        with open(input_path, \"r\", encoding=\"utf-8\") as f:\n",
    "            try:\n",
    "                data = json.load(f)\n",
    "            except json.JSONDecodeError:\n",
    "                print(f\"{filename} is not a valid JSON file. Skipped.\")\n",
    "                continue\n",
    "\n",
    "        ### 1단계: standard_sentence 기준 중복 제거\n",
    "        seen_standard = set()\n",
    "        filtered_by_standard = []\n",
    "        for entry in data:\n",
    "            standard = entry.get(\"standard_sentence\")\n",
    "            if standard and standard not in seen_standard:\n",
    "                seen_standard.add(standard)\n",
    "                filtered_by_standard.append(entry)\n",
    "\n",
    "        ### 2단계: slang_sentence 기준 중복 제거\n",
    "        seen_slang = set()\n",
    "        final_unique_data = []\n",
    "        for entry in filtered_by_standard:\n",
    "            slang = entry.get(\"slang_sentence\")\n",
    "            if slang and slang not in seen_slang:\n",
    "                seen_slang.add(slang)\n",
    "                final_unique_data.append(entry)\n",
    "\n",
    "        # 결과 저장\n",
    "        with open(output_path, \"w\", encoding=\"utf-8\") as f:\n",
    "            json.dump(final_unique_data, f, ensure_ascii=False, indent=2)\n",
    "\n",
    "        print(f\"{filename}: {len(data)}개 -> {len(filtered_by_standard)}개 (standard 중복 제거) -> {len(final_unique_data)}개 (slang 중복 제거)\")\n",
    "\n",
    "print(\"모든 파일 처리 완료.\")\n"
   ]
  }
 ],
 "metadata": {
  "language_info": {
   "name": "python"
  }
 },
 "nbformat": 4,
 "nbformat_minor": 5
}
